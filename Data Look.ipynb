{
 "cells": [
  {
   "cell_type": "code",
   "execution_count": 12,
   "metadata": {
    "collapsed": false
   },
   "outputs": [],
   "source": [
    "import pandas as pd"
   ]
  },
  {
   "cell_type": "code",
   "execution_count": 13,
   "metadata": {
    "collapsed": false
   },
   "outputs": [],
   "source": [
    "df = pd.read_csv(\"data/wowah_data.csv.zip\", compression='zip')"
   ]
  },
  {
   "cell_type": "code",
   "execution_count": 14,
   "metadata": {
    "collapsed": false
   },
   "outputs": [
    {
     "data": {
      "text/plain": [
       "(10826734, 7)"
      ]
     },
     "execution_count": 14,
     "metadata": {},
     "output_type": "execute_result"
    }
   ],
   "source": [
    "df.shape"
   ]
  },
  {
   "cell_type": "code",
   "execution_count": 15,
   "metadata": {
    "collapsed": false
   },
   "outputs": [
    {
     "data": {
      "text/plain": [
       "Index(['char', ' level', ' race', ' charclass', ' zone', ' guild',\n",
       "       ' timestamp'],\n",
       "      dtype='object')"
      ]
     },
     "execution_count": 15,
     "metadata": {},
     "output_type": "execute_result"
    }
   ],
   "source": [
    "df.columns\n",
    "# char: a player id\n",
    "# level: (1-80)\n",
    "# race: (Orc, Tauren, Troll, Undead, Blood Elf)\n",
    "# charclass: 职业(Rogue, Mage, Paladin, Warlock, Hunter, Priest, Warrior, Shaman, Druid, Death Knight)\n",
    "# zone: 地点\n",
    "# guild: 公会set to -1 when the player has no guild. \n",
    "# timestamp: 数据计入时间"
   ]
  },
  {
   "cell_type": "code",
   "execution_count": 16,
   "metadata": {
    "collapsed": false
   },
   "outputs": [
    {
     "data": {
      "text/html": [
       "<div>\n",
       "<table border=\"1\" class=\"dataframe\">\n",
       "  <thead>\n",
       "    <tr style=\"text-align: right;\">\n",
       "      <th></th>\n",
       "      <th>char</th>\n",
       "      <th>level</th>\n",
       "      <th>race</th>\n",
       "      <th>charclass</th>\n",
       "      <th>zone</th>\n",
       "      <th>guild</th>\n",
       "      <th>timestamp</th>\n",
       "    </tr>\n",
       "  </thead>\n",
       "  <tbody>\n",
       "    <tr>\n",
       "      <th>0</th>\n",
       "      <td>59425</td>\n",
       "      <td>1</td>\n",
       "      <td>Orc</td>\n",
       "      <td>Rogue</td>\n",
       "      <td>Orgrimmar</td>\n",
       "      <td>165</td>\n",
       "      <td>01/01/08 00:02:04</td>\n",
       "    </tr>\n",
       "    <tr>\n",
       "      <th>1</th>\n",
       "      <td>65494</td>\n",
       "      <td>9</td>\n",
       "      <td>Orc</td>\n",
       "      <td>Hunter</td>\n",
       "      <td>Durotar</td>\n",
       "      <td>-1</td>\n",
       "      <td>01/01/08 00:02:04</td>\n",
       "    </tr>\n",
       "    <tr>\n",
       "      <th>2</th>\n",
       "      <td>65325</td>\n",
       "      <td>14</td>\n",
       "      <td>Orc</td>\n",
       "      <td>Warrior</td>\n",
       "      <td>Ghostlands</td>\n",
       "      <td>-1</td>\n",
       "      <td>01/01/08 00:02:04</td>\n",
       "    </tr>\n",
       "    <tr>\n",
       "      <th>3</th>\n",
       "      <td>65490</td>\n",
       "      <td>18</td>\n",
       "      <td>Orc</td>\n",
       "      <td>Hunter</td>\n",
       "      <td>Ghostlands</td>\n",
       "      <td>-1</td>\n",
       "      <td>01/01/08 00:02:04</td>\n",
       "    </tr>\n",
       "    <tr>\n",
       "      <th>4</th>\n",
       "      <td>2288</td>\n",
       "      <td>60</td>\n",
       "      <td>Orc</td>\n",
       "      <td>Hunter</td>\n",
       "      <td>Hellfire Peninsula</td>\n",
       "      <td>-1</td>\n",
       "      <td>01/01/08 00:02:09</td>\n",
       "    </tr>\n",
       "  </tbody>\n",
       "</table>\n",
       "</div>"
      ],
      "text/plain": [
       "    char   level  race  charclass                zone   guild  \\\n",
       "0  59425       1   Orc      Rogue           Orgrimmar     165   \n",
       "1  65494       9   Orc     Hunter             Durotar      -1   \n",
       "2  65325      14   Orc    Warrior          Ghostlands      -1   \n",
       "3  65490      18   Orc     Hunter          Ghostlands      -1   \n",
       "4   2288      60   Orc     Hunter  Hellfire Peninsula      -1   \n",
       "\n",
       "           timestamp  \n",
       "0  01/01/08 00:02:04  \n",
       "1  01/01/08 00:02:04  \n",
       "2  01/01/08 00:02:04  \n",
       "3  01/01/08 00:02:04  \n",
       "4  01/01/08 00:02:09  "
      ]
     },
     "execution_count": 16,
     "metadata": {},
     "output_type": "execute_result"
    }
   ],
   "source": [
    "df.head()"
   ]
  },
  {
   "cell_type": "code",
   "execution_count": 24,
   "metadata": {
    "collapsed": true
   },
   "outputs": [],
   "source": [
    "import matplotlib.pyplot as plt\n",
    "%matplotlib inline"
   ]
  },
  {
   "cell_type": "code",
   "execution_count": 27,
   "metadata": {
    "collapsed": false
   },
   "outputs": [
    {
     "data": {
      "text/plain": [
       "Index(['id', 'level', 'race', 'job', 'zone', 'guild', 'time'], dtype='object')"
      ]
     },
     "execution_count": 27,
     "metadata": {},
     "output_type": "execute_result"
    }
   ],
   "source": [
    "df.columns = [\"id\", \"level\", \"race\", \"job\", \"zone\", \"guild\", \"time\"]\n",
    "df.columns"
   ]
  },
  {
   "cell_type": "code",
   "execution_count": 35,
   "metadata": {
    "collapsed": false
   },
   "outputs": [
    {
     "data": {
      "text/plain": [
       "Blood Elf    3929995\n",
       "Undead       2530156\n",
       "Tauren       2331118\n",
       "Troll        1102409\n",
       "Orc           933056\n",
       "Name: race, dtype: int64"
      ]
     },
     "execution_count": 35,
     "metadata": {},
     "output_type": "execute_result"
    }
   ],
   "source": [
    "df.race.value_counts()"
   ]
  },
  {
   "cell_type": "code",
   "execution_count": 36,
   "metadata": {
    "collapsed": false
   },
   "outputs": [
    {
     "data": {
      "text/plain": [
       "Hunter          1549924\n",
       "Mage            1437914\n",
       "Warlock         1347409\n",
       "Warrior         1282538\n",
       "Paladin         1158652\n",
       "Priest          1127051\n",
       "Rogue           1050134\n",
       "Druid            916344\n",
       "Shaman           726679\n",
       "Death Knight     230089\n",
       "Name: job, dtype: int64"
      ]
     },
     "execution_count": 36,
     "metadata": {},
     "output_type": "execute_result"
    }
   ],
   "source": [
    "df.job.value_counts()"
   ]
  },
  {
   "cell_type": "code",
   "execution_count": 33,
   "metadata": {
    "collapsed": false
   },
   "outputs": [
    {
     "data": {
      "image/png": "[encoded data removed]",
      "text/plain": [
       "<matplotlib.figure.Figure at 0x119f3b198>"
      ]
     },
     "metadata": {},
     "output_type": "display_data"
    }
   ],
   "source": [
    "plt.hist('level', data=df)\n",
    "plt.show()"
   ]
  },
  {
   "cell_type": "code",
   "execution_count": 38,
   "metadata": {
    "collapsed": true
   },
   "outputs": [],
   "source": [
    "import plotly.plotly as py\n",
    "import plotly.graph_objs as go"
   ]
  },
  {
   "cell_type": "code",
   "execution_count": 59,
   "metadata": {
    "collapsed": false
   },
   "outputs": [
    {
     "data": {
      "text/html": [
       "<div>\n",
       "<table border=\"1\" class=\"dataframe\">\n",
       "  <thead>\n",
       "    <tr style=\"text-align: right;\">\n",
       "      <th>job</th>\n",
       "      <th>Death Knight</th>\n",
       "      <th>Druid</th>\n",
       "      <th>Hunter</th>\n",
       "      <th>Mage</th>\n",
       "      <th>Paladin</th>\n",
       "      <th>Priest</th>\n",
       "      <th>Rogue</th>\n",
       "      <th>Shaman</th>\n",
       "      <th>Warlock</th>\n",
       "      <th>Warrior</th>\n",
       "      <th>All</th>\n",
       "    </tr>\n",
       "    <tr>\n",
       "      <th>race</th>\n",
       "      <th></th>\n",
       "      <th></th>\n",
       "      <th></th>\n",
       "      <th></th>\n",
       "      <th></th>\n",
       "      <th></th>\n",
       "      <th></th>\n",
       "      <th></th>\n",
       "      <th></th>\n",
       "      <th></th>\n",
       "      <th></th>\n",
       "    </tr>\n",
       "  </thead>\n",
       "  <tbody>\n",
       "    <tr>\n",
       "      <th>Blood Elf</th>\n",
       "      <td>130882</td>\n",
       "      <td>0</td>\n",
       "      <td>532187</td>\n",
       "      <td>637600</td>\n",
       "      <td>1158652</td>\n",
       "      <td>473776</td>\n",
       "      <td>360717</td>\n",
       "      <td>0</td>\n",
       "      <td>636181</td>\n",
       "      <td>0</td>\n",
       "      <td>3929995</td>\n",
       "    </tr>\n",
       "    <tr>\n",
       "      <th>Orc</th>\n",
       "      <td>26877</td>\n",
       "      <td>0</td>\n",
       "      <td>387973</td>\n",
       "      <td>0</td>\n",
       "      <td>0</td>\n",
       "      <td>0</td>\n",
       "      <td>57279</td>\n",
       "      <td>122260</td>\n",
       "      <td>67209</td>\n",
       "      <td>271458</td>\n",
       "      <td>933056</td>\n",
       "    </tr>\n",
       "    <tr>\n",
       "      <th>Tauren</th>\n",
       "      <td>37339</td>\n",
       "      <td>916344</td>\n",
       "      <td>232772</td>\n",
       "      <td>0</td>\n",
       "      <td>0</td>\n",
       "      <td>0</td>\n",
       "      <td>0</td>\n",
       "      <td>474157</td>\n",
       "      <td>0</td>\n",
       "      <td>670506</td>\n",
       "      <td>2331118</td>\n",
       "    </tr>\n",
       "    <tr>\n",
       "      <th>Troll</th>\n",
       "      <td>7286</td>\n",
       "      <td>0</td>\n",
       "      <td>396992</td>\n",
       "      <td>169775</td>\n",
       "      <td>0</td>\n",
       "      <td>142703</td>\n",
       "      <td>195615</td>\n",
       "      <td>130262</td>\n",
       "      <td>0</td>\n",
       "      <td>59776</td>\n",
       "      <td>1102409</td>\n",
       "    </tr>\n",
       "    <tr>\n",
       "      <th>Undead</th>\n",
       "      <td>27705</td>\n",
       "      <td>0</td>\n",
       "      <td>0</td>\n",
       "      <td>630539</td>\n",
       "      <td>0</td>\n",
       "      <td>510572</td>\n",
       "      <td>436523</td>\n",
       "      <td>0</td>\n",
       "      <td>644019</td>\n",
       "      <td>280798</td>\n",
       "      <td>2530156</td>\n",
       "    </tr>\n",
       "    <tr>\n",
       "      <th>All</th>\n",
       "      <td>230089</td>\n",
       "      <td>916344</td>\n",
       "      <td>1549924</td>\n",
       "      <td>1437914</td>\n",
       "      <td>1158652</td>\n",
       "      <td>1127051</td>\n",
       "      <td>1050134</td>\n",
       "      <td>726679</td>\n",
       "      <td>1347409</td>\n",
       "      <td>1282538</td>\n",
       "      <td>10826734</td>\n",
       "    </tr>\n",
       "  </tbody>\n",
       "</table>\n",
       "</div>"
      ],
      "text/plain": [
       "job        Death Knight   Druid   Hunter     Mage  Paladin   Priest    Rogue  \\\n",
       "race                                                                           \n",
       "Blood Elf        130882       0   532187   637600  1158652   473776   360717   \n",
       "Orc               26877       0   387973        0        0        0    57279   \n",
       "Tauren            37339  916344   232772        0        0        0        0   \n",
       "Troll              7286       0   396992   169775        0   142703   195615   \n",
       "Undead            27705       0        0   630539        0   510572   436523   \n",
       "All              230089  916344  1549924  1437914  1158652  1127051  1050134   \n",
       "\n",
       "job        Shaman  Warlock  Warrior       All  \n",
       "race                                           \n",
       "Blood Elf       0   636181        0   3929995  \n",
       "Orc        122260    67209   271458    933056  \n",
       "Tauren     474157        0   670506   2331118  \n",
       "Troll      130262        0    59776   1102409  \n",
       "Undead          0   644019   280798   2530156  \n",
       "All        726679  1347409  1282538  10826734  "
      ]
     },
     "execution_count": 59,
     "metadata": {},
     "output_type": "execute_result"
    }
   ],
   "source": [
    "table = pd.crosstab(df.race, df.job, margins=True)\n",
    "table"
   ]
  },
  {
   "cell_type": "code",
   "execution_count": 69,
   "metadata": {
    "collapsed": false
   },
   "outputs": [],
   "source": [
    "def glist(tb, n):\n",
    "    return tb.iloc[n, :-1].tolist()"
   ]
  },
  {
   "cell_type": "code",
   "execution_count": 66,
   "metadata": {
    "collapsed": false
   },
   "outputs": [
    {
     "data": {
      "text/plain": [
       "Index(['Blood Elf', 'Orc', 'Tauren', 'Troll', 'Undead', 'All'], dtype='object', name='race')"
      ]
     },
     "execution_count": 66,
     "metadata": {},
     "output_type": "execute_result"
    }
   ],
   "source": [
    "table.index"
   ]
  },
  {
   "cell_type": "code",
   "execution_count": 67,
   "metadata": {
    "collapsed": false
   },
   "outputs": [
    {
     "data": {
      "text/plain": [
       "Index(['Death Knight', 'Druid', 'Hunter', 'Mage', 'Paladin', 'Priest', 'Rogue',\n",
       "       'Shaman', 'Warlock', 'Warrior', 'All'],\n",
       "      dtype='object', name='job')"
      ]
     },
     "execution_count": 67,
     "metadata": {},
     "output_type": "execute_result"
    }
   ],
   "source": [
    "table.columns"
   ]
  },
  {
   "cell_type": "code",
   "execution_count": 70,
   "metadata": {
    "collapsed": false
   },
   "outputs": [
    {
     "data": {
      "text/html": [
       "<iframe id=\"igraph\" scrolling=\"no\" style=\"border:none;\" seamless=\"seamless\" src=\"https://plot.ly/~dmindemon/3.embed\" height=\"525px\" width=\"100%\"></iframe>"
      ],
      "text/plain": [
       "<plotly.tools.PlotlyDisplay object>"
      ]
     },
     "execution_count": 70,
     "metadata": {},
     "output_type": "execute_result"
    }
   ],
   "source": [
    "data = [\n",
    "    go.Heatmap(\n",
    "        z=[glist(table,0), glist(table,1), glist(table,2), glist(table,3), glist(table,4)],\n",
    "        x=['Death Knight', 'Druid', 'Hunter', 'Mage', 'Paladin', 'Priest', 'Rogue',\n",
    "       'Shaman', 'Warlock', 'Warrior', 'All'],\n",
    "        y=['Blood Elf', 'Orc', 'Tauren', 'Troll', 'Undead']\n",
    "    )\n",
    "]\n",
    "py.iplot(data, filename='labelled-heatmap')"
   ]
  },
  {
   "cell_type": "code",
   "execution_count": null,
   "metadata": {
    "collapsed": true
   },
   "outputs": [],
   "source": []
  }
 ],
 "metadata": {
  "kernelspec": {
   "display_name": "Python 3",
   "language": "python",
   "name": "python3"
  },
  "language_info": {
   "codemirror_mode": {
    "name": "ipython",
    "version": 3
   },
   "file_extension": ".py",
   "mimetype": "text/x-python",
   "name": "python",
   "nbconvert_exporter": "python",
   "pygments_lexer": "ipython3",
   "version": "3.5.2"
  }
 },
 "nbformat": 4,
 "nbformat_minor": 0
}
